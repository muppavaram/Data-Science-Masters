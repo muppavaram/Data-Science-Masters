{
 "cells": [
  {
   "cell_type": "code",
   "execution_count": 1,
   "id": "1b81e81b",
   "metadata": {},
   "outputs": [
    {
     "name": "stdout",
     "output_type": "stream",
     "text": [
      "You can vote\n"
     ]
    }
   ],
   "source": [
    "##If else\n",
    "age = 18\n",
    "if age >= 18:\n",
    "    print(\"You can vote\")"
   ]
  },
  {
   "cell_type": "code",
   "execution_count": 3,
   "id": "bdffe06d",
   "metadata": {},
   "outputs": [
    {
     "name": "stdout",
     "output_type": "stream",
     "text": [
      "You can't vote\n"
     ]
    }
   ],
   "source": [
    "age = 17\n",
    "if age <= 18:\n",
    "    print(\"You can't vote\")"
   ]
  },
  {
   "cell_type": "code",
   "execution_count": 4,
   "id": "e0093fc0",
   "metadata": {},
   "outputs": [],
   "source": [
    "age = 18\n",
    "if age < 18:\n",
    "    print(\"You can vote\")"
   ]
  },
  {
   "cell_type": "code",
   "execution_count": 5,
   "id": "6b612295",
   "metadata": {},
   "outputs": [
    {
     "name": "stdout",
     "output_type": "stream",
     "text": [
      "Nagesh\n"
     ]
    },
    {
     "data": {
      "text/plain": [
       "'Nagesh'"
      ]
     },
     "execution_count": 5,
     "metadata": {},
     "output_type": "execute_result"
    }
   ],
   "source": [
    "input()"
   ]
  },
  {
   "cell_type": "code",
   "execution_count": 8,
   "id": "5faa7675",
   "metadata": {},
   "outputs": [
    {
     "name": "stdout",
     "output_type": "stream",
     "text": [
      "Enter your name Nagesh\n"
     ]
    }
   ],
   "source": [
    "name = input(\"Enter your name\")"
   ]
  },
  {
   "cell_type": "code",
   "execution_count": 9,
   "id": "7f562dbd",
   "metadata": {},
   "outputs": [
    {
     "name": "stdout",
     "output_type": "stream",
     "text": [
      "Enter your age 33\n"
     ]
    }
   ],
   "source": [
    "age = int(input(\"Enter your age\"))"
   ]
  },
  {
   "cell_type": "code",
   "execution_count": 10,
   "id": "3948e83b",
   "metadata": {},
   "outputs": [
    {
     "data": {
      "text/plain": [
       "int"
      ]
     },
     "execution_count": 10,
     "metadata": {},
     "output_type": "execute_result"
    }
   ],
   "source": [
    "type(age)"
   ]
  },
  {
   "cell_type": "code",
   "execution_count": null,
   "id": "c1d91061",
   "metadata": {},
   "outputs": [],
   "source": [
    "#Task\n",
    "1. Take input of age \n",
    "2. Check whether age >= 18 and age ,<= 45\n",
    "#display a message you're young blood"
   ]
  },
  {
   "cell_type": "code",
   "execution_count": 15,
   "id": "c5ad6d1b",
   "metadata": {},
   "outputs": [
    {
     "name": "stdout",
     "output_type": "stream",
     "text": [
      "My age is 33\n",
      "I'm young blood\n"
     ]
    }
   ],
   "source": [
    "age = int(input(\"My age is\"))\n",
    "if age >= 18 and age <=45:\n",
    "    print(\"I'm young blood\")"
   ]
  },
  {
   "cell_type": "code",
   "execution_count": 16,
   "id": "643292e2",
   "metadata": {},
   "outputs": [
    {
     "name": "stdout",
     "output_type": "stream",
     "text": [
      "My age is 55\n"
     ]
    }
   ],
   "source": [
    "age = int(input(\"My age is\"))\n",
    "if age >= 18 and age <=45:\n",
    "    print(\"I'm young blood\")"
   ]
  },
  {
   "cell_type": "code",
   "execution_count": 17,
   "id": "61625bb4",
   "metadata": {},
   "outputs": [],
   "source": [
    "#here above nothing is getting printed\n",
    "#Therefore we can use if else statement"
   ]
  },
  {
   "cell_type": "code",
   "execution_count": 18,
   "id": "a420fe8f",
   "metadata": {},
   "outputs": [
    {
     "name": "stdout",
     "output_type": "stream",
     "text": [
      "My age is 55\n",
      "You're not young bro\n"
     ]
    }
   ],
   "source": [
    "age = int(input(\"My age is\"))\n",
    "if age >= 18 and age <=45:\n",
    "    print(\"I'm young blood\")\n",
    "else:\n",
    "    print(\"You're not young bro\")"
   ]
  },
  {
   "cell_type": "code",
   "execution_count": null,
   "id": "4a934887",
   "metadata": {},
   "outputs": [],
   "source": [
    "#mall input produt price\n",
    "##any product > 1000 rs disocunt is 20%, print the product price after discount\n",
    "##any product<=1000 rs disocunt is 30%, print the product price after discount\n"
   ]
  },
  {
   "cell_type": "code",
   "execution_count": 20,
   "id": "8983c8ff",
   "metadata": {},
   "outputs": [
    {
     "name": "stdout",
     "output_type": "stream",
     "text": [
      "Enter the price 1500\n"
     ]
    },
    {
     "ename": "TypeError",
     "evalue": "unsupported operand type(s) for -: 'str' and 'float'",
     "output_type": "error",
     "traceback": [
      "\u001b[1;31m---------------------------------------------------------------------------\u001b[0m",
      "\u001b[1;31mTypeError\u001b[0m                                 Traceback (most recent call last)",
      "Cell \u001b[1;32mIn[20], line 3\u001b[0m\n\u001b[0;32m      1\u001b[0m price \u001b[38;5;241m=\u001b[39m \u001b[38;5;28mint\u001b[39m(\u001b[38;5;28minput\u001b[39m(\u001b[38;5;124m\"\u001b[39m\u001b[38;5;124mEnter the price\u001b[39m\u001b[38;5;124m\"\u001b[39m))\n\u001b[0;32m      2\u001b[0m \u001b[38;5;28;01mif\u001b[39;00m price \u001b[38;5;241m>\u001b[39m \u001b[38;5;241m1000\u001b[39m:\n\u001b[1;32m----> 3\u001b[0m     \u001b[38;5;28mprint\u001b[39m(\u001b[38;5;28mint\u001b[39m(\u001b[38;5;124m\"\u001b[39m\u001b[38;5;124mprice\u001b[39m\u001b[38;5;124m\"\u001b[39m \u001b[38;5;241m-\u001b[39m \u001b[38;5;241m20\u001b[39m\u001b[38;5;241m/\u001b[39m\u001b[38;5;241m100\u001b[39m))\n\u001b[0;32m      4\u001b[0m \u001b[38;5;28;01melse\u001b[39;00m:\n\u001b[0;32m      5\u001b[0m     \u001b[38;5;28mprint\u001b[39m(\u001b[38;5;28mint\u001b[39m(\u001b[38;5;124m\"\u001b[39m\u001b[38;5;124mprice\u001b[39m\u001b[38;5;124m\"\u001b[39m \u001b[38;5;241m-\u001b[39m \u001b[38;5;241m30\u001b[39m\u001b[38;5;241m/\u001b[39m\u001b[38;5;241m100\u001b[39m))\n",
      "\u001b[1;31mTypeError\u001b[0m: unsupported operand type(s) for -: 'str' and 'float'"
     ]
    }
   ],
   "source": [
    "price = int(input(\"Enter the price\"))\n",
    "if price > 1000:\n",
    "    print(int(\"price\" - 20/100))\n",
    "else:\n",
    "    print(int(\"price\" - 30/100))\n",
    "    "
   ]
  },
  {
   "cell_type": "code",
   "execution_count": 21,
   "id": "a5548648",
   "metadata": {},
   "outputs": [
    {
     "name": "stdout",
     "output_type": "stream",
     "text": [
      "Enter the price 1500\n",
      "1499\n"
     ]
    }
   ],
   "source": [
    "price = int(input(\"Enter the price\"))\n",
    "if price > 1000:\n",
    "    print(int(price - 20/100))\n",
    "else:\n",
    "    print(int(price - 30/100))"
   ]
  },
  {
   "cell_type": "code",
   "execution_count": 2,
   "id": "bbc82155",
   "metadata": {},
   "outputs": [
    {
     "name": "stdout",
     "output_type": "stream",
     "text": [
      "Enter the price 3000\n",
      "This is the price after discount\n"
     ]
    }
   ],
   "source": [
    "price = int(input(\"Enter the price\"))\n",
    "if price > 1000:\n",
    "    print(\"This is the price after discount\".format(price*0.8))\n",
    "else:\n",
    "    print(\"This is the price after discount\".format(price*0.7))"
   ]
  },
  {
   "cell_type": "code",
   "execution_count": 4,
   "id": "a1d71a99",
   "metadata": {},
   "outputs": [
    {
     "name": "stdout",
     "output_type": "stream",
     "text": [
      "Enter the product price900\n",
      "The price is 630.0\n"
     ]
    }
   ],
   "source": [
    "price = int(input(\"Enter the product price\"))\n",
    "if price > 1000:\n",
    "    print(\"The price is {}\".format(price*0.8))\n",
    "else:\n",
    "    print(\"The price is {}\".format(price*0.7))"
   ]
  },
  {
   "cell_type": "code",
   "execution_count": 6,
   "id": "e34b95f1",
   "metadata": {},
   "outputs": [
    {
     "name": "stdout",
     "output_type": "stream",
     "text": [
      "Enter the product price 5000\n",
      "The price is 4000.0\n"
     ]
    }
   ],
   "source": [
    "price = int(input(\"Enter the product price\"))\n",
    "if price > 1000:\n",
    "    print(f\"The price is {price*0.8}\")\n",
    "else:\n",
    "    print(\"The price is {}\".format(price*0.7))"
   ]
  },
  {
   "cell_type": "code",
   "execution_count": null,
   "id": "aa575df0",
   "metadata": {},
   "outputs": [],
   "source": [
    "#mall input produt price\n",
    "##any product > 3000 rs disocunt is 20%, print the product price after discount\n",
    "##any product >=2000 rs and <=3000 disocunt is 30%, print the product price after discount\n",
    "##any product <=1000 rs and <=2000 40% off, print the price after discount\n"
   ]
  },
  {
   "cell_type": "code",
   "execution_count": 7,
   "id": "c3c788ca",
   "metadata": {},
   "outputs": [
    {
     "name": "stdout",
     "output_type": "stream",
     "text": [
      "Enter the price 500\n",
      "The price is 300.0\n"
     ]
    }
   ],
   "source": [
    "price = int(input(\"Enter the price\"))\n",
    "if price > 3000:\n",
    "    print(\"The price is {}\".format(price*0.8))\n",
    "elif price >= 2000 and price <=3000:\n",
    "    print(\"The price is {}\".format(price*0.7))\n",
    "else:\n",
    "    print(\"The price is {}\".format(price*0.6))\n",
    "    \n",
    "    "
   ]
  },
  {
   "cell_type": "code",
   "execution_count": null,
   "id": "209ea7a2",
   "metadata": {},
   "outputs": [],
   "source": [
    "#if and elif differences: try to learn both"
   ]
  },
  {
   "cell_type": "code",
   "execution_count": null,
   "id": "a77ffd17",
   "metadata": {},
   "outputs": [],
   "source": [
    "#mall input produt price\n",
    "##any product > 3000 rs disocunt is 20%, print the product price after discount\n",
    "##if price is 2999 you will get an additional gift\n",
    "##any product >=2000 rs and <=3000 disocunt is 30%, print the product price after discount\n",
    "##any product <=100 rs and <=2000 40% off, print the price after discount"
   ]
  },
  {
   "cell_type": "code",
   "execution_count": 12,
   "id": "2cdd3f02",
   "metadata": {},
   "outputs": [
    {
     "name": "stdout",
     "output_type": "stream",
     "text": [
      "Enter the price 2999\n",
      "Congratulations you get additional gift\n",
      "The price is 2099.2999999999997\n"
     ]
    }
   ],
   "source": [
    "price = int(input(\"Enter the price\"))\n",
    "if price > 3000:\n",
    "    print(\"The price is {}\".format(price*0.8))\n",
    "elif price >= 2000 and price <=3000:\n",
    "    if price == 2999:\n",
    "        print(\"Congratulations you get additional gift\")\n",
    "    print(\"The price is {}\".format(price*0.7))\n",
    "elif price >= 100 and price <=2000:\n",
    "    print(\"The price is {}\".format(price*0.6))\n",
    "else:\n",
    "    print(\"Let's drink tea\")\n",
    "    "
   ]
  },
  {
   "cell_type": "markdown",
   "id": "9378aa23",
   "metadata": {},
   "source": [
    "## The above example is example of nested ifs"
   ]
  },
  {
   "cell_type": "code",
   "execution_count": null,
   "id": "5265b687",
   "metadata": {},
   "outputs": [],
   "source": [
    "#mall input produt price\n",
    "##any product > 3000 rs disocunt is 20%, print the product price after discount\n",
    "##price is == 4000, you will get a goa trip\n",
    "##if price is 2999 you will get an additional gift\n",
    "##any product >=2000 rs and <=3000 disocunt is 30%, print the product price after discount\n",
    "##any product <=100 rs and <=2000 40% off, print the price after discount"
   ]
  },
  {
   "cell_type": "code",
   "execution_count": 13,
   "id": "8a03af6f",
   "metadata": {},
   "outputs": [
    {
     "name": "stdout",
     "output_type": "stream",
     "text": [
      "Enter the price 4000\n",
      "You will get a Goa trip\n",
      "The price is 3200.0\n"
     ]
    }
   ],
   "source": [
    "price = int(input(\"Enter the price\"))\n",
    "if price > 3000:\n",
    "    if price == 4000:\n",
    "        print(\"You will get a Goa trip\")\n",
    "    print(\"The price is {}\".format(price*0.8))\n",
    "elif price >= 2000 and price <=3000:\n",
    "    if price == 2999:\n",
    "        print(\"Congratulations you get additional gift\")\n",
    "    print(\"The price is {}\".format(price*0.7))\n",
    "elif price >= 100 and price <2000:\n",
    "    print(\"The price is {}\".format(price*0.6))\n",
    "else:\n",
    "    print(\"Let's drink tea\")"
   ]
  },
  {
   "cell_type": "code",
   "execution_count": 15,
   "id": "f22f95f9",
   "metadata": {},
   "outputs": [
    {
     "name": "stdout",
     "output_type": "stream",
     "text": [
      "Enter the number 1000\n",
      "Go home brother\n"
     ]
    }
   ],
   "source": [
    "## Single Statements Suites\n",
    "\n",
    "val = int(input(\"Enter the number\"))\n",
    "if(val <= 999):print(\"Value is less than equal to 999\")\n",
    "else:\n",
    "    print(\"Go home brother\")"
   ]
  },
  {
   "cell_type": "code",
   "execution_count": null,
   "id": "d802401d",
   "metadata": {},
   "outputs": [],
   "source": []
  },
  {
   "cell_type": "code",
   "execution_count": null,
   "id": "4b8b3776",
   "metadata": {},
   "outputs": [],
   "source": []
  },
  {
   "cell_type": "code",
   "execution_count": null,
   "id": "9e5fead8",
   "metadata": {},
   "outputs": [],
   "source": []
  },
  {
   "cell_type": "code",
   "execution_count": null,
   "id": "3a0efd26",
   "metadata": {},
   "outputs": [],
   "source": []
  },
  {
   "cell_type": "code",
   "execution_count": null,
   "id": "8fca3f4b",
   "metadata": {},
   "outputs": [],
   "source": []
  }
 ],
 "metadata": {
  "kernelspec": {
   "display_name": "Python 3 (ipykernel)",
   "language": "python",
   "name": "python3"
  },
  "language_info": {
   "codemirror_mode": {
    "name": "ipython",
    "version": 3
   },
   "file_extension": ".py",
   "mimetype": "text/x-python",
   "name": "python",
   "nbconvert_exporter": "python",
   "pygments_lexer": "ipython3",
   "version": "3.11.4"
  }
 },
 "nbformat": 4,
 "nbformat_minor": 5
}
